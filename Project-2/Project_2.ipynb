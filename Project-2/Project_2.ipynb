{
 "cells": [
  {
   "cell_type": "markdown",
   "metadata": {},
   "source": [
    "# Project 2: Implementing a Simple Convolutional Neural Network (CNN)\n",
    "\n",
    "## Introduction\n",
    "\n",
    "In this project, you will design, implement, and evaluate a simple Convolutional Neural Network (CNN) from scratch. This will involve building the entire pipeline, from data preprocessing to model training and evaluation.\n",
    "\n",
    "## Objectives\n",
    "\n",
    "1. Set up TensorFlow or PyTorch environments. You are free to choose your preferred DL platform.\n",
    "2. Use GPU for training.\n",
    "3. Create a data loader and implement data preprocessing where needed.\n",
    "4. Design a Convolutional Neural Network.\n",
    "5. Train and evaluate your model. Make sure to clearly show loss and accuracy values. Include visualizations too.\n",
    "6. Answer assessment questions.\n",
    "\n",
    "## Dataset\n",
    "\n",
    "You are free to choose any dataset for this project! Kaggle would be a good source to look for datasets. Below are some examples:\n",
    "- CIFAR-10: A dataset of 60,000 32x32 color images in 10 classes with 6,000 images per class.\n",
    "- MNIST: A dataset of 70,000 28x28 grayscale images of handwritten digits (0-9).\n",
    "- Fashion-MNIST: A dataset of 70,000 28x28 grayscale images of 10 different clothing caregories.\n"
   ]
  },
  {
   "cell_type": "markdown",
   "metadata": {},
   "source": [
    "---\n",
    "### Questions\n",
    "Answer the following questions in detail.\n",
    "\n",
    "1. What is a Convolutional Neural Network (CNN)? Describe its key components and how they differ from those in a fully connected neural network.\n",
    "2. Explain the purpose of the convolution operation in a CNN. How does the use of different filter sizes affect the feature maps?\n",
    "3. What is the purpose of a pooling layer in a CNN, and how does it contribute to the network’s performance?\n",
    "4. Why are activation functions important in CNNs? Compare the use of ReLU (Rectified Linear Unit) with other activation functions.\n",
    "5. Describe the process of training a CNN. What are some common challenges faced during training?\n",
    "6. What are some common evaluation metrics used to assess the performance of a CNN on a classification task?\n",
    "7. How does data augmentation help improve the performance of a CNN? Provide examples of common data augmentation techniques.\n"
   ]
  },
  {
   "cell_type": "markdown",
   "metadata": {},
   "source": [
    "---\n",
    "### Submission\n",
    "Submit a link to your completed Jupyter Notebook (e.g., on GitHub (private) or Google Colab) with all the cells executed, and answers to the assessment questions included at the end of the notebook."
   ]
  }
 ],
 "metadata": {
  "kernelspec": {
   "display_name": "DeepLearning",
   "language": "python",
   "name": "python3"
  },
  "language_info": {
   "name": "python",
   "version": "3.8.20"
  }
 },
 "nbformat": 4,
 "nbformat_minor": 2
}
